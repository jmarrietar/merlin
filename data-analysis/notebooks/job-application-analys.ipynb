{
 "cells": [
  {
   "cell_type": "markdown",
   "metadata": {},
   "source": [
    "# Point 3"
   ]
  },
  {
   "cell_type": "markdown",
   "metadata": {},
   "source": [
    "- Each job has multiple variables from category, salary, type of job, etc. Define a ranking of what matters most to candidates based on their behavior shown so far."
   ]
  },
  {
   "cell_type": "markdown",
   "metadata": {},
   "source": [
    "#### Import Libraries"
   ]
  },
  {
   "cell_type": "code",
   "execution_count": 1,
   "metadata": {},
   "outputs": [],
   "source": [
    "import pandas as pd \n",
    "import numpy as np\n",
    "import math\n",
    "from sklearn.preprocessing import OneHotEncoder,LabelEncoder\n",
    "from sklearn.model_selection import train_test_split\n",
    "from sklearn.metrics import mean_squared_error\n",
    "from sklearn.ensemble import RandomForestRegressor\n",
    "import seaborn as sns\n",
    "import matplotlib.pyplot as plt"
   ]
  },
  {
   "cell_type": "markdown",
   "metadata": {},
   "source": [
    "##### Load dataset"
   ]
  },
  {
   "cell_type": "markdown",
   "metadata": {},
   "source": [
    "This dataset was created using <b> applications_per_job.sql </b> query, that concatenates jobs and counts how many applications each one received. "
   ]
  },
  {
   "cell_type": "code",
   "execution_count": 2,
   "metadata": {},
   "outputs": [],
   "source": [
    "#Load original data\n",
    "df = pd.read_csv('../data/job_data.csv', sep=',',dtype={'duration': 'S10','required_work_experience': 'S10','job_type': 'S10',\n",
    "                                                       'salary_period': 'S10','position_name': 'S10'})"
   ]
  },
  {
   "cell_type": "code",
   "execution_count": 3,
   "metadata": {},
   "outputs": [],
   "source": [
    "#Fill NA in salary with -1 \n",
    "df['salary'].fillna(-1, inplace=True)"
   ]
  },
  {
   "cell_type": "code",
   "execution_count": 4,
   "metadata": {},
   "outputs": [
    {
     "data": {
      "text/html": [
       "<div>\n",
       "<style scoped>\n",
       "    .dataframe tbody tr th:only-of-type {\n",
       "        vertical-align: middle;\n",
       "    }\n",
       "\n",
       "    .dataframe tbody tr th {\n",
       "        vertical-align: top;\n",
       "    }\n",
       "\n",
       "    .dataframe thead th {\n",
       "        text-align: right;\n",
       "    }\n",
       "</style>\n",
       "<table border=\"1\" class=\"dataframe\">\n",
       "  <thead>\n",
       "    <tr style=\"text-align: right;\">\n",
       "      <th></th>\n",
       "      <th>id_job</th>\n",
       "      <th>duration</th>\n",
       "      <th>required_work_experience</th>\n",
       "      <th>job_type</th>\n",
       "      <th>salary_period</th>\n",
       "      <th>salary</th>\n",
       "      <th>position_name</th>\n",
       "      <th>latitude</th>\n",
       "      <th>longitude</th>\n",
       "      <th>applied</th>\n",
       "    </tr>\n",
       "  </thead>\n",
       "  <tbody>\n",
       "    <tr>\n",
       "      <th>0</th>\n",
       "      <td>02c47a39339ag80dfg4a82g2328g68d7d51c</td>\n",
       "      <td>b'TEMPORAL'</td>\n",
       "      <td>b'No'</td>\n",
       "      <td>b'PART_TIME'</td>\n",
       "      <td>b'HOUR'</td>\n",
       "      <td>13.0</td>\n",
       "      <td>b'Cashier'</td>\n",
       "      <td>40.751213</td>\n",
       "      <td>-73.903648</td>\n",
       "      <td>153</td>\n",
       "    </tr>\n",
       "    <tr>\n",
       "      <th>1</th>\n",
       "      <td>edf95c24ebc2gb0bcg4c08gb487g1efd8a76</td>\n",
       "      <td>b'PERMANENT'</td>\n",
       "      <td>b'No'</td>\n",
       "      <td>b'PART_TIME'</td>\n",
       "      <td>b'HOUR'</td>\n",
       "      <td>14.0</td>\n",
       "      <td>b'Front desk'</td>\n",
       "      <td>40.712776</td>\n",
       "      <td>-74.005974</td>\n",
       "      <td>133</td>\n",
       "    </tr>\n",
       "    <tr>\n",
       "      <th>2</th>\n",
       "      <td>3a326702a5f0gbee9g48a4gd5ddgb95cd3ac</td>\n",
       "      <td>b'TEMPORAL'</td>\n",
       "      <td>b'No'</td>\n",
       "      <td>b'PART_TIME'</td>\n",
       "      <td>b''</td>\n",
       "      <td>-1.0</td>\n",
       "      <td>b'General La'</td>\n",
       "      <td>40.705074</td>\n",
       "      <td>-74.009163</td>\n",
       "      <td>121</td>\n",
       "    </tr>\n",
       "    <tr>\n",
       "      <th>3</th>\n",
       "      <td>ade2625b02d1ga1f5g48e3g7dc3gc75cd53f</td>\n",
       "      <td>b''</td>\n",
       "      <td>b'No'</td>\n",
       "      <td>b'NONE'</td>\n",
       "      <td>b''</td>\n",
       "      <td>-1.0</td>\n",
       "      <td>b'Home healt'</td>\n",
       "      <td>40.613579</td>\n",
       "      <td>-73.962761</td>\n",
       "      <td>115</td>\n",
       "    </tr>\n",
       "    <tr>\n",
       "      <th>4</th>\n",
       "      <td>fa5f9a98a642gb407g41a9gc46dg5f6ecc73</td>\n",
       "      <td>b'PERMANENT'</td>\n",
       "      <td>b'No'</td>\n",
       "      <td>b'FULL_TIME'</td>\n",
       "      <td>b''</td>\n",
       "      <td>-1.0</td>\n",
       "      <td>b'Stockperso'</td>\n",
       "      <td>40.700741</td>\n",
       "      <td>-73.941330</td>\n",
       "      <td>107</td>\n",
       "    </tr>\n",
       "  </tbody>\n",
       "</table>\n",
       "</div>"
      ],
      "text/plain": [
       "                                 id_job      duration  \\\n",
       "0  02c47a39339ag80dfg4a82g2328g68d7d51c   b'TEMPORAL'   \n",
       "1  edf95c24ebc2gb0bcg4c08gb487g1efd8a76  b'PERMANENT'   \n",
       "2  3a326702a5f0gbee9g48a4gd5ddgb95cd3ac   b'TEMPORAL'   \n",
       "3  ade2625b02d1ga1f5g48e3g7dc3gc75cd53f           b''   \n",
       "4  fa5f9a98a642gb407g41a9gc46dg5f6ecc73  b'PERMANENT'   \n",
       "\n",
       "  required_work_experience      job_type salary_period  salary  position_name  \\\n",
       "0                    b'No'  b'PART_TIME'       b'HOUR'    13.0     b'Cashier'   \n",
       "1                    b'No'  b'PART_TIME'       b'HOUR'    14.0  b'Front desk'   \n",
       "2                    b'No'  b'PART_TIME'           b''    -1.0  b'General La'   \n",
       "3                    b'No'       b'NONE'           b''    -1.0  b'Home healt'   \n",
       "4                    b'No'  b'FULL_TIME'           b''    -1.0  b'Stockperso'   \n",
       "\n",
       "    latitude  longitude  applied  \n",
       "0  40.751213 -73.903648      153  \n",
       "1  40.712776 -74.005974      133  \n",
       "2  40.705074 -74.009163      121  \n",
       "3  40.613579 -73.962761      115  \n",
       "4  40.700741 -73.941330      107  "
      ]
     },
     "execution_count": 4,
     "metadata": {},
     "output_type": "execute_result"
    }
   ],
   "source": [
    "df.head()"
   ]
  },
  {
   "cell_type": "markdown",
   "metadata": {},
   "source": [
    "## Descriptive Analysis"
   ]
  },
  {
   "cell_type": "code",
   "execution_count": 5,
   "metadata": {},
   "outputs": [
    {
     "data": {
      "image/png": "[encoded data removed]",
      "text/plain": [
       "<Figure size 432x288 with 1 Axes>"
      ]
     },
     "metadata": {},
     "output_type": "display_data"
    }
   ],
   "source": [
    "ax = df.groupby(['required_work_experience']).sum()['applied'].plot(kind='bar', color = \"blue\")\n",
    "ax.set_xlabel(\"Required work experience\", fontsize=12)\n",
    "ax.set_ylabel(\"Number of Applications\", fontsize=12)\n",
    "plt.show()"
   ]
  },
  {
   "cell_type": "code",
   "execution_count": 6,
   "metadata": {},
   "outputs": [
    {
     "data": {
      "image/png": "[encoded data removed]",
      "text/plain": [
       "<Figure size 432x288 with 1 Axes>"
      ]
     },
     "metadata": {},
     "output_type": "display_data"
    }
   ],
   "source": [
    "ax = df.groupby(['duration']).sum()['applied'].plot(kind='bar', color = \"blue\")\n",
    "ax.set_xlabel(\"Job Duration \", fontsize=12)\n",
    "ax.set_ylabel(\"Number of Applications\", fontsize=12)\n",
    "plt.show()"
   ]
  },
  {
   "cell_type": "code",
   "execution_count": 7,
   "metadata": {},
   "outputs": [
    {
     "data": {
      "image/png": "[encoded data removed]",
      "text/plain": [
       "<Figure size 432x288 with 1 Axes>"
      ]
     },
     "metadata": {},
     "output_type": "display_data"
    }
   ],
   "source": [
    "ax = df.groupby(['job_type']).sum()['applied'].plot(kind='bar', color = \"blue\")\n",
    "ax.set_xlabel(\"Job Type\", fontsize=12)\n",
    "ax.set_ylabel(\"Number of Applications\", fontsize=12)\n",
    "plt.show()"
   ]
  },
  {
   "cell_type": "markdown",
   "metadata": {},
   "source": [
    "## Predictive Analysis"
   ]
  },
  {
   "cell_type": "markdown",
   "metadata": {},
   "source": [
    "Also a predictive Analysis was performed, Training a Random Forest Regressor and using their methods to rank features to contrast what graphs told about applications. \n"
   ]
  },
  {
   "cell_type": "code",
   "execution_count": 8,
   "metadata": {},
   "outputs": [],
   "source": [
    "#Feature to use:\n",
    "COL = ['duration','required_work_experience','job_type','salary_period','salary','applied']\n",
    "#Select features \n",
    "df = df[COL]"
   ]
  },
  {
   "cell_type": "code",
   "execution_count": 9,
   "metadata": {},
   "outputs": [],
   "source": [
    "#Create X[feature] Y[Target] dataframes\n",
    "X = df[COL[:len(COL)-1]]\n",
    "Y = df[COL[len(COL)-1]]"
   ]
  },
  {
   "cell_type": "code",
   "execution_count": 10,
   "metadata": {},
   "outputs": [
    {
     "name": "stdout",
     "output_type": "stream",
     "text": [
      "[b'TEMPORAL' b'PERMANENT' b'' b'NONE']\n",
      "[b'No' b'1-2 Years' b'2-3 Years' b'+3 Years' b'']\n",
      "[b'PART_TIME' b'NONE' b'FULL_TIME' b'']\n",
      "[b'HOUR' b'' b'MONTH']\n"
     ]
    }
   ],
   "source": [
    "#List unique values in the df['name'] column\n",
    "print(df.duration.unique())\n",
    "print(df.required_work_experience.unique())\n",
    "print(df.job_type.unique())\n",
    "print(df.salary_period.unique())"
   ]
  },
  {
   "cell_type": "code",
   "execution_count": 11,
   "metadata": {},
   "outputs": [],
   "source": [
    "#Creating training and Test set [Hold out validation]\n",
    "X_train, X_test, y_train, y_test = train_test_split(X, Y, test_size=0.2, random_state=42)"
   ]
  },
  {
   "cell_type": "code",
   "execution_count": 12,
   "metadata": {},
   "outputs": [
    {
     "name": "stderr",
     "output_type": "stream",
     "text": [
      "/Users/josemiguelarrieta/anaconda3/lib/python3.6/site-packages/pandas/core/indexing.py:543: SettingWithCopyWarning: \n",
      "A value is trying to be set on a copy of a slice from a DataFrame.\n",
      "Try using .loc[row_indexer,col_indexer] = value instead\n",
      "\n",
      "See the caveats in the documentation: http://pandas.pydata.org/pandas-docs/stable/indexing.html#indexing-view-versus-copy\n",
      "  self.obj[item] = s\n"
     ]
    }
   ],
   "source": [
    "##############\n",
    "#  Encoding  #\n",
    "##############\n",
    "    \n",
    "encoder_duration = LabelEncoder()\n",
    "encoder_required_work_experience = LabelEncoder()\n",
    "encoder_job_type = LabelEncoder()\n",
    "encoder_salary_period = LabelEncoder()\n",
    "\n",
    "encoder_duration.fit(X_train['duration'].append(X_test['duration']))\n",
    "encoder_required_work_experience.fit(X_train['required_work_experience'].append(X_test['required_work_experience']))\n",
    "encoder_job_type.fit(X_train['job_type'].append(X_test['job_type']))\n",
    "encoder_salary_period.fit(X_train['salary_period'].append(X_test['salary_period']))\n",
    "\n",
    "#Apply encoders to traintest\n",
    "X_train.loc[:,'duration'] = encoder_duration.transform(X_train['duration'].values)\n",
    "X_train.loc[:,'required_work_experience'] = encoder_required_work_experience.transform(X_train['required_work_experience'].values)\n",
    "X_train.loc[:,'job_type'] = encoder_job_type.transform(X_train['job_type'].values)\n",
    "X_train.loc[:,'salary_period'] = encoder_salary_period.transform(X_train['salary_period'].values)\n",
    "\n",
    "#Apply encoders to testset\n",
    "X_test.loc[:,'duration'] = encoder_duration.transform(X_test['duration'].values)\n",
    "X_test.loc[:,'required_work_experience'] = encoder_required_work_experience.transform(X_test['required_work_experience'].values)\n",
    "X_test.loc[:,'job_type'] = encoder_job_type.transform(X_test['job_type'].values)\n",
    "X_test.loc[:,'salary_period'] = encoder_salary_period.transform(X_test['salary_period'].values)"
   ]
  },
  {
   "cell_type": "code",
   "execution_count": 13,
   "metadata": {},
   "outputs": [
    {
     "data": {
      "text/html": [
       "<div>\n",
       "<style scoped>\n",
       "    .dataframe tbody tr th:only-of-type {\n",
       "        vertical-align: middle;\n",
       "    }\n",
       "\n",
       "    .dataframe tbody tr th {\n",
       "        vertical-align: top;\n",
       "    }\n",
       "\n",
       "    .dataframe thead th {\n",
       "        text-align: right;\n",
       "    }\n",
       "</style>\n",
       "<table border=\"1\" class=\"dataframe\">\n",
       "  <thead>\n",
       "    <tr style=\"text-align: right;\">\n",
       "      <th></th>\n",
       "      <th>duration</th>\n",
       "      <th>required_work_experience</th>\n",
       "      <th>job_type</th>\n",
       "      <th>salary_period</th>\n",
       "      <th>salary</th>\n",
       "    </tr>\n",
       "  </thead>\n",
       "  <tbody>\n",
       "    <tr>\n",
       "      <th>1730</th>\n",
       "      <td>2</td>\n",
       "      <td>2</td>\n",
       "      <td>1</td>\n",
       "      <td>0</td>\n",
       "      <td>-1.0</td>\n",
       "    </tr>\n",
       "    <tr>\n",
       "      <th>5123</th>\n",
       "      <td>0</td>\n",
       "      <td>4</td>\n",
       "      <td>2</td>\n",
       "      <td>1</td>\n",
       "      <td>13.0</td>\n",
       "    </tr>\n",
       "    <tr>\n",
       "      <th>1476</th>\n",
       "      <td>2</td>\n",
       "      <td>2</td>\n",
       "      <td>1</td>\n",
       "      <td>0</td>\n",
       "      <td>-1.0</td>\n",
       "    </tr>\n",
       "    <tr>\n",
       "      <th>2867</th>\n",
       "      <td>2</td>\n",
       "      <td>1</td>\n",
       "      <td>1</td>\n",
       "      <td>0</td>\n",
       "      <td>-1.0</td>\n",
       "    </tr>\n",
       "    <tr>\n",
       "      <th>4896</th>\n",
       "      <td>2</td>\n",
       "      <td>2</td>\n",
       "      <td>1</td>\n",
       "      <td>1</td>\n",
       "      <td>14.0</td>\n",
       "    </tr>\n",
       "  </tbody>\n",
       "</table>\n",
       "</div>"
      ],
      "text/plain": [
       "      duration  required_work_experience  job_type  salary_period  salary\n",
       "1730         2                         2         1              0    -1.0\n",
       "5123         0                         4         2              1    13.0\n",
       "1476         2                         2         1              0    -1.0\n",
       "2867         2                         1         1              0    -1.0\n",
       "4896         2                         2         1              1    14.0"
      ]
     },
     "execution_count": 13,
     "metadata": {},
     "output_type": "execute_result"
    }
   ],
   "source": [
    "X_train.head()"
   ]
  },
  {
   "cell_type": "code",
   "execution_count": 14,
   "metadata": {},
   "outputs": [
    {
     "data": {
      "text/plain": [
       "OneHotEncoder(categorical_features=[0, 1, 2, 3],\n",
       "       dtype=<class 'numpy.float64'>, handle_unknown='error',\n",
       "       n_values='auto', sparse=True)"
      ]
     },
     "execution_count": 14,
     "metadata": {},
     "output_type": "execute_result"
    }
   ],
   "source": [
    "# Perform OneHotEncoding\n",
    "categorical = OneHotEncoder(categorical_features = [0,1,2,3]) #Specific [Change with new Data]\n",
    "categorical.fit(np.concatenate((X_train,X_test),axis=0))"
   ]
  },
  {
   "cell_type": "code",
   "execution_count": 15,
   "metadata": {},
   "outputs": [],
   "source": [
    "#OneHot encoder to trainset \n",
    "X_train_matrix = categorical.transform(X_train)\n",
    "X_train_array = X_train_matrix.toarray()\n",
    "    \n",
    "#OneHot encoder to testset \n",
    "X_test_matrix = categorical.transform(X_test)\n",
    "X_test_array = X_test_matrix.toarray()"
   ]
  },
  {
   "cell_type": "code",
   "execution_count": 16,
   "metadata": {},
   "outputs": [
    {
     "data": {
      "text/plain": [
       "RandomForestRegressor(bootstrap=True, criterion='mse', max_depth=2,\n",
       "           max_features='auto', max_leaf_nodes=None,\n",
       "           min_impurity_decrease=0.0, min_impurity_split=None,\n",
       "           min_samples_leaf=1, min_samples_split=2,\n",
       "           min_weight_fraction_leaf=0.0, n_estimators=100, n_jobs=1,\n",
       "           oob_score=False, random_state=0, verbose=0, warm_start=False)"
      ]
     },
     "execution_count": 16,
     "metadata": {},
     "output_type": "execute_result"
    }
   ],
   "source": [
    "#Train Regressor\n",
    "regr = RandomForestRegressor(max_depth=2, random_state=0, n_estimators=100)\n",
    "regr.fit(X_train_array, y_train)"
   ]
  },
  {
   "cell_type": "code",
   "execution_count": 17,
   "metadata": {},
   "outputs": [
    {
     "name": "stdout",
     "output_type": "stream",
     "text": [
      "MSE: 119.07514729485001\n",
      "RMSE: 10.912155941648287\n"
     ]
    }
   ],
   "source": [
    "# Predict and Calculate MSE and RMSE\n",
    "y_predictions = regr.predict(X_test_array)\n",
    "MSE = mean_squared_error(y_test, y_predictions)\n",
    "print('MSE: '+ str(MSE))\n",
    "print('RMSE: '+ str(math.sqrt(MSE)))"
   ]
  },
  {
   "cell_type": "code",
   "execution_count": 18,
   "metadata": {},
   "outputs": [],
   "source": [
    "# Feature importance \n",
    "a = regr.feature_importances_"
   ]
  },
  {
   "cell_type": "markdown",
   "metadata": {},
   "source": [
    "#### Duration"
   ]
  },
  {
   "cell_type": "code",
   "execution_count": 19,
   "metadata": {},
   "outputs": [
    {
     "data": {
      "text/plain": [
       "0.13841949310356266"
      ]
     },
     "execution_count": 19,
     "metadata": {},
     "output_type": "execute_result"
    }
   ],
   "source": [
    "np.sum(a[0:4]) # duration"
   ]
  },
  {
   "cell_type": "markdown",
   "metadata": {},
   "source": [
    "#### Required work experience "
   ]
  },
  {
   "cell_type": "code",
   "execution_count": 20,
   "metadata": {},
   "outputs": [
    {
     "data": {
      "text/plain": [
       "0.3179715306236546"
      ]
     },
     "execution_count": 20,
     "metadata": {},
     "output_type": "execute_result"
    }
   ],
   "source": [
    "np.sum(a[4:9]) # required_work_experience"
   ]
  },
  {
   "cell_type": "markdown",
   "metadata": {},
   "source": [
    "#### Job Type"
   ]
  },
  {
   "cell_type": "code",
   "execution_count": 21,
   "metadata": {},
   "outputs": [
    {
     "data": {
      "text/plain": [
       "0.07773274093760192"
      ]
     },
     "execution_count": 21,
     "metadata": {},
     "output_type": "execute_result"
    }
   ],
   "source": [
    "np.sum(a[9:13]) # job_type"
   ]
  },
  {
   "cell_type": "markdown",
   "metadata": {},
   "source": [
    "#### Salary Period"
   ]
  },
  {
   "cell_type": "code",
   "execution_count": 22,
   "metadata": {},
   "outputs": [
    {
     "data": {
      "text/plain": [
       "0.19496919485831027"
      ]
     },
     "execution_count": 22,
     "metadata": {},
     "output_type": "execute_result"
    }
   ],
   "source": [
    "np.sum(a[13:16]) # salary_period"
   ]
  },
  {
   "cell_type": "markdown",
   "metadata": {},
   "source": [
    "#### Salary"
   ]
  },
  {
   "cell_type": "code",
   "execution_count": 23,
   "metadata": {},
   "outputs": [
    {
     "data": {
      "text/plain": [
       "0.2709070404768705"
      ]
     },
     "execution_count": 23,
     "metadata": {},
     "output_type": "execute_result"
    }
   ],
   "source": [
    "np.sum(a[16]) # Salary "
   ]
  },
  {
   "cell_type": "markdown",
   "metadata": {},
   "source": [
    "### Ranking"
   ]
  },
  {
   "cell_type": "markdown",
   "metadata": {},
   "source": [
    "Ranking Most Important to least \n",
    "\n",
    "* required_work_experience\n",
    "* Salary\n",
    "* salary_period \n",
    "* duration \n",
    "* job_type"
   ]
  },
  {
   "cell_type": "markdown",
   "metadata": {},
   "source": [
    "From the Prescritive Analysis we can say that Required work experience and Salary are the two most important features for candidates to apply for jobs. "
   ]
  },
  {
   "cell_type": "markdown",
   "metadata": {},
   "source": [
    "## Conclutions"
   ]
  },
  {
   "cell_type": "markdown",
   "metadata": {},
   "source": [
    "From the predictive analysis we can conclude that the variables that most will affect the number of applications are the <b> Required work experience </b> and the <b> salary </b> and looking to the graphs from the descriptive analysis we can see that most variables candidates apply for are ‘PERMANENT’ for Job duration. ‘FULL_TIME’ for Job Type and ‘1-2 Years’ from Required work.experience."
   ]
  }
 ],
 "metadata": {
  "kernelspec": {
   "display_name": "Python 3",
   "language": "python",
   "name": "python3"
  },
  "language_info": {
   "codemirror_mode": {
    "name": "ipython",
    "version": 3
   },
   "file_extension": ".py",
   "mimetype": "text/x-python",
   "name": "python",
   "nbconvert_exporter": "python",
   "pygments_lexer": "ipython3",
   "version": "3.6.5"
  }
 },
 "nbformat": 4,
 "nbformat_minor": 2
}
