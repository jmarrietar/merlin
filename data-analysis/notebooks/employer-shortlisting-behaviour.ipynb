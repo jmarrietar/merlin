{
 "cells": [
  {
   "cell_type": "markdown",
   "metadata": {},
   "source": [
    "# Point 4"
   ]
  },
  {
   "cell_type": "markdown",
   "metadata": {},
   "source": [
    "- Can you say something about employer behavior when shortlisting (preselecting candidates)?\n"
   ]
  },
  {
   "cell_type": "markdown",
   "metadata": {},
   "source": [
    "#### Import Libraries"
   ]
  },
  {
   "cell_type": "code",
   "execution_count": 2,
   "metadata": {},
   "outputs": [],
   "source": [
    "import pandas as pd\n",
    "from difflib import SequenceMatcher\n",
    "import seaborn as sns\n",
    "import matplotlib.pyplot as plt"
   ]
  },
  {
   "cell_type": "markdown",
   "metadata": {},
   "source": [
    "#### Load data"
   ]
  },
  {
   "cell_type": "markdown",
   "metadata": {},
   "source": [
    "This dataset was created using <b> job_candidate_match.sql </b> , a query that would join job information with candidate work_experience flattened into a column called cv and a column shortlisted, indicating if the candidate was shortlisted (1) or not (0). "
   ]
  },
  {
   "cell_type": "code",
   "execution_count": 3,
   "metadata": {},
   "outputs": [],
   "source": [
    "df = pd.read_csv('../data/shortlist_data.csv', sep=',', dtype={'cv': 'str','position_name': 'str'})"
   ]
  },
  {
   "cell_type": "code",
   "execution_count": 4,
   "metadata": {},
   "outputs": [
    {
     "data": {
      "text/html": [
       "<div>\n",
       "<style scoped>\n",
       "    .dataframe tbody tr th:only-of-type {\n",
       "        vertical-align: middle;\n",
       "    }\n",
       "\n",
       "    .dataframe tbody tr th {\n",
       "        vertical-align: top;\n",
       "    }\n",
       "\n",
       "    .dataframe thead th {\n",
       "        text-align: right;\n",
       "    }\n",
       "</style>\n",
       "<table border=\"1\" class=\"dataframe\">\n",
       "  <thead>\n",
       "    <tr style=\"text-align: right;\">\n",
       "      <th></th>\n",
       "      <th>id_job</th>\n",
       "      <th>id_candidate</th>\n",
       "      <th>duration</th>\n",
       "      <th>required_work_experience</th>\n",
       "      <th>job_type</th>\n",
       "      <th>salary_period</th>\n",
       "      <th>salary</th>\n",
       "      <th>position_name</th>\n",
       "      <th>cv</th>\n",
       "      <th>experience</th>\n",
       "      <th>shortlisted</th>\n",
       "    </tr>\n",
       "  </thead>\n",
       "  <tbody>\n",
       "    <tr>\n",
       "      <th>0</th>\n",
       "      <td>00cda46558edg9161g429bgcf51g361f448c</td>\n",
       "      <td>4d79e19c6321ga2f0g4406gb57cg646e389e</td>\n",
       "      <td>PERMANENT</td>\n",
       "      <td>1-2 Years</td>\n",
       "      <td>FULL_TIME</td>\n",
       "      <td>NaN</td>\n",
       "      <td>NaN</td>\n",
       "      <td>Wait staff</td>\n",
       "      <td>Warehouse manager Warehouse shipping and recei...</td>\n",
       "      <td>3+ Years 2-3 Years</td>\n",
       "      <td>1</td>\n",
       "    </tr>\n",
       "    <tr>\n",
       "      <th>1</th>\n",
       "      <td>00cda46558edg9161g429bgcf51g361f448c</td>\n",
       "      <td>850c17a3804cgba50g4bbbga98agfaf89457</td>\n",
       "      <td>PERMANENT</td>\n",
       "      <td>1-2 Years</td>\n",
       "      <td>FULL_TIME</td>\n",
       "      <td>NaN</td>\n",
       "      <td>NaN</td>\n",
       "      <td>Wait staff</td>\n",
       "      <td>care of the elderly Cashier Bakery assistant W...</td>\n",
       "      <td>1-2 Years Less than 1 Year</td>\n",
       "      <td>1</td>\n",
       "    </tr>\n",
       "    <tr>\n",
       "      <th>2</th>\n",
       "      <td>00cda46558edg9161g429bgcf51g361f448c</td>\n",
       "      <td>90aaeef9ac9cg9d94g431fg9457gb01b413b</td>\n",
       "      <td>PERMANENT</td>\n",
       "      <td>1-2 Years</td>\n",
       "      <td>FULL_TIME</td>\n",
       "      <td>NaN</td>\n",
       "      <td>NaN</td>\n",
       "      <td>Wait staff</td>\n",
       "      <td>Server Make up artist</td>\n",
       "      <td>1-2 Years Less than 1 Year</td>\n",
       "      <td>1</td>\n",
       "    </tr>\n",
       "    <tr>\n",
       "      <th>3</th>\n",
       "      <td>014681c9b6cbgb6dfg439fgcc8eg3a1ccaf9</td>\n",
       "      <td>148c322c2106g8bf8g451eg2a25g2232a557</td>\n",
       "      <td>NaN</td>\n",
       "      <td>No</td>\n",
       "      <td>NONE</td>\n",
       "      <td>NaN</td>\n",
       "      <td>NaN</td>\n",
       "      <td>Cook</td>\n",
       "      <td>Baker Line cook</td>\n",
       "      <td>Less than 1 Year</td>\n",
       "      <td>1</td>\n",
       "    </tr>\n",
       "    <tr>\n",
       "      <th>4</th>\n",
       "      <td>014681c9b6cbgb6dfg439fgcc8eg3a1ccaf9</td>\n",
       "      <td>48b8a8183752g8f10g4c67g5f01gb244ea9a</td>\n",
       "      <td>NaN</td>\n",
       "      <td>No</td>\n",
       "      <td>NONE</td>\n",
       "      <td>NaN</td>\n",
       "      <td>NaN</td>\n",
       "      <td>Cook</td>\n",
       "      <td>Busser</td>\n",
       "      <td>1-2 Years</td>\n",
       "      <td>1</td>\n",
       "    </tr>\n",
       "  </tbody>\n",
       "</table>\n",
       "</div>"
      ],
      "text/plain": [
       "                                 id_job                          id_candidate  \\\n",
       "0  00cda46558edg9161g429bgcf51g361f448c  4d79e19c6321ga2f0g4406gb57cg646e389e   \n",
       "1  00cda46558edg9161g429bgcf51g361f448c  850c17a3804cgba50g4bbbga98agfaf89457   \n",
       "2  00cda46558edg9161g429bgcf51g361f448c  90aaeef9ac9cg9d94g431fg9457gb01b413b   \n",
       "3  014681c9b6cbgb6dfg439fgcc8eg3a1ccaf9  148c322c2106g8bf8g451eg2a25g2232a557   \n",
       "4  014681c9b6cbgb6dfg439fgcc8eg3a1ccaf9  48b8a8183752g8f10g4c67g5f01gb244ea9a   \n",
       "\n",
       "    duration required_work_experience   job_type salary_period  salary  \\\n",
       "0  PERMANENT                1-2 Years  FULL_TIME           NaN     NaN   \n",
       "1  PERMANENT                1-2 Years  FULL_TIME           NaN     NaN   \n",
       "2  PERMANENT                1-2 Years  FULL_TIME           NaN     NaN   \n",
       "3        NaN                       No       NONE           NaN     NaN   \n",
       "4        NaN                       No       NONE           NaN     NaN   \n",
       "\n",
       "  position_name                                                 cv  \\\n",
       "0    Wait staff  Warehouse manager Warehouse shipping and recei...   \n",
       "1    Wait staff  care of the elderly Cashier Bakery assistant W...   \n",
       "2    Wait staff                              Server Make up artist   \n",
       "3          Cook                                    Baker Line cook   \n",
       "4          Cook                                             Busser   \n",
       "\n",
       "                   experience  shortlisted  \n",
       "0          3+ Years 2-3 Years            1  \n",
       "1  1-2 Years Less than 1 Year            1  \n",
       "2  1-2 Years Less than 1 Year            1  \n",
       "3            Less than 1 Year            1  \n",
       "4                   1-2 Years            1  "
      ]
     },
     "execution_count": 4,
     "metadata": {},
     "output_type": "execute_result"
    }
   ],
   "source": [
    "df.head()"
   ]
  },
  {
   "cell_type": "markdown",
   "metadata": {},
   "source": [
    "<b> cv </b> is a column that compress all the information about candidate past job titles. <br>\n",
    "<b> position_name </b> is a column indicating information about job position name <br> "
   ]
  },
  {
   "cell_type": "code",
   "execution_count": 6,
   "metadata": {},
   "outputs": [],
   "source": [
    "#Transform columns to lower case. \n",
    "df['cv'] = df['cv'].str.lower()\n",
    "df['position_name'] = df['position_name'].str.lower()"
   ]
  },
  {
   "cell_type": "markdown",
   "metadata": {},
   "source": [
    "## Strategy Approach  "
   ]
  },
  {
   "cell_type": "markdown",
   "metadata": {},
   "source": [
    "I would like to know if applying some function of string similarity between past experience cv previously constructed and the position_name would indicate a difference in the average of being shortlisted or not.  "
   ]
  },
  {
   "cell_type": "code",
   "execution_count": 7,
   "metadata": {},
   "outputs": [],
   "source": [
    "df['similarity']= df[['cv','position_name']].apply(lambda row: SequenceMatcher(None, str(row['cv']), str(row['position_name'])).ratio(), axis=1)"
   ]
  },
  {
   "cell_type": "code",
   "execution_count": 8,
   "metadata": {},
   "outputs": [
    {
     "data": {
      "text/html": [
       "<div>\n",
       "<style scoped>\n",
       "    .dataframe tbody tr th:only-of-type {\n",
       "        vertical-align: middle;\n",
       "    }\n",
       "\n",
       "    .dataframe tbody tr th {\n",
       "        vertical-align: top;\n",
       "    }\n",
       "\n",
       "    .dataframe thead th {\n",
       "        text-align: right;\n",
       "    }\n",
       "</style>\n",
       "<table border=\"1\" class=\"dataframe\">\n",
       "  <thead>\n",
       "    <tr style=\"text-align: right;\">\n",
       "      <th></th>\n",
       "      <th>cv</th>\n",
       "      <th>position_name</th>\n",
       "      <th>similarity</th>\n",
       "      <th>shortlisted</th>\n",
       "    </tr>\n",
       "  </thead>\n",
       "  <tbody>\n",
       "    <tr>\n",
       "      <th>0</th>\n",
       "      <td>warehouse manager warehouse shipping and recei...</td>\n",
       "      <td>wait staff</td>\n",
       "      <td>0.227273</td>\n",
       "      <td>1</td>\n",
       "    </tr>\n",
       "    <tr>\n",
       "      <th>1</th>\n",
       "      <td>care of the elderly cashier bakery assistant w...</td>\n",
       "      <td>wait staff</td>\n",
       "      <td>0.179775</td>\n",
       "      <td>1</td>\n",
       "    </tr>\n",
       "    <tr>\n",
       "      <th>2</th>\n",
       "      <td>server make up artist</td>\n",
       "      <td>wait staff</td>\n",
       "      <td>0.193548</td>\n",
       "      <td>1</td>\n",
       "    </tr>\n",
       "    <tr>\n",
       "      <th>3</th>\n",
       "      <td>baker line cook</td>\n",
       "      <td>cook</td>\n",
       "      <td>0.421053</td>\n",
       "      <td>1</td>\n",
       "    </tr>\n",
       "    <tr>\n",
       "      <th>4</th>\n",
       "      <td>busser</td>\n",
       "      <td>cook</td>\n",
       "      <td>0.000000</td>\n",
       "      <td>1</td>\n",
       "    </tr>\n",
       "  </tbody>\n",
       "</table>\n",
       "</div>"
      ],
      "text/plain": [
       "                                                  cv position_name  \\\n",
       "0  warehouse manager warehouse shipping and recei...    wait staff   \n",
       "1  care of the elderly cashier bakery assistant w...    wait staff   \n",
       "2                              server make up artist    wait staff   \n",
       "3                                    baker line cook          cook   \n",
       "4                                             busser          cook   \n",
       "\n",
       "   similarity  shortlisted  \n",
       "0    0.227273            1  \n",
       "1    0.179775            1  \n",
       "2    0.193548            1  \n",
       "3    0.421053            1  \n",
       "4    0.000000            1  "
      ]
     },
     "execution_count": 8,
     "metadata": {},
     "output_type": "execute_result"
    }
   ],
   "source": [
    "df[['cv','position_name','similarity','shortlisted']].head()"
   ]
  },
  {
   "cell_type": "code",
   "execution_count": 9,
   "metadata": {},
   "outputs": [
    {
     "data": {
      "image/png": "[encoded data removed]",
      "text/plain": [
       "<Figure size 432x288 with 1 Axes>"
      ]
     },
     "metadata": {},
     "output_type": "display_data"
    }
   ],
   "source": [
    "ax = df.groupby(['shortlisted']).mean()['similarity'].plot(kind='bar', color = \"blue\")\n",
    "ax.set_xlabel(\"Shortlisted\", fontsize=12)\n",
    "ax.set_ylabel(\"Similarity CV and Position Name\", fontsize=12)\n",
    "plt.show()"
   ]
  },
  {
   "cell_type": "markdown",
   "metadata": {},
   "source": [
    "### Conclutions"
   ]
  },
  {
   "cell_type": "markdown",
   "metadata": {},
   "source": [
    "Employers tend to shortlist in average a little more from candidates with a higher string match score  between past job titles and job title posted but might not be significant, is important to take into account that similarity was made on the fly and not very rigorous. Future job could be improve this score marching with maybe a <b> Bag of Words </b> approach. \n"
   ]
  }
 ],
 "metadata": {
  "kernelspec": {
   "display_name": "Python 3",
   "language": "python",
   "name": "python3"
  },
  "language_info": {
   "codemirror_mode": {
    "name": "ipython",
    "version": 3
   },
   "file_extension": ".py",
   "mimetype": "text/x-python",
   "name": "python",
   "nbconvert_exporter": "python",
   "pygments_lexer": "ipython3",
   "version": "3.6.5"
  }
 },
 "nbformat": 4,
 "nbformat_minor": 2
}
